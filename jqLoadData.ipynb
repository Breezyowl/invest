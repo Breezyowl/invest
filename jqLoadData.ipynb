{
 "cells": [
  {
   "cell_type": "code",
   "execution_count": 1,
   "metadata": {},
   "outputs": [],
   "source": [
    "import numpy as np\n",
    "import pandas as pd\n",
    "import datetime\n",
    "from datetime import datetime as dt\n",
    "import MySQLdb\n",
    "from jqlib.alpha101 import *"
   ]
  },
  {
   "cell_type": "code",
   "execution_count": 2,
   "metadata": {},
   "outputs": [
    {
     "name": "stdout",
     "output_type": "stream",
     "text": [
      "<_mysql.connection open to 'db-cuhk-afi.c18nldkzqsg2.us-east-1.rds.amazonaws.com' at 555672b97398>\n"
     ]
    }
   ],
   "source": [
    "# 1. 连接数据库，\n",
    "conn = MySQLdb.connect(\n",
    "     host='db-cuhk-afi.c18nldkzqsg2.us-east-1.rds.amazonaws.com',\n",
    "     user='admin',\n",
    "     password='cuhk1001',\n",
    "     db='rl_data',\n",
    "     # autocommit=True,    # 如果插入数据，， 是否自动提交? 和conn.commit()功能一致。\n",
    ")\n",
    "# conn = MySQLdb.connect(\n",
    "#      host='localhost',\n",
    "#      user='zm',\n",
    "#      password='ky111111',\n",
    "#      db='data',\n",
    "#      # autocommit=True,    # 如果插入数据，， 是否自动提交? 和conn.commit()功能一致。\n",
    "# )\n",
    "print(conn)\n",
    "cur = conn.cursor()"
   ]
  },
  {
   "cell_type": "code",
   "execution_count": null,
   "metadata": {},
   "outputs": [],
   "source": [
    "conn.close()"
   ]
  },
  {
   "cell_type": "code",
   "execution_count": 76,
   "metadata": {},
   "outputs": [
    {
     "name": "stdout",
     "output_type": "stream",
     "text": [
      "((1107252,),)\n"
     ]
    }
   ],
   "source": [
    "try:\n",
    "    sql = \"select count(1) from trade_his\"\n",
    "\n",
    "    cur.execute(sql)\n",
    "except Exception as e:\n",
    "    print(\"更新多条数据失败:\", e)\n",
    "else:\n",
    "    # 如果是插入数据， 一定要提交数据， 不然数据库中找不到要插入的数据;\n",
    "    conn.commit()\n",
    "info = cur.fetchall()     #获取所有的查询结果\n",
    "print(info)"
   ]
  },
  {
   "cell_type": "code",
   "execution_count": 3,
   "metadata": {},
   "outputs": [],
   "source": [
    "def update_data(df):\n",
    "    try:\n",
    "        update_info = [tuple(xi) for xi in df.values] \n",
    "        update_sqli =    \"update trade_his set alpha001= (%s) ,alpha004= (%s) ,alpha005= (%s) ,alpha008= (%s) ,alpha009= (%s) ,alpha018= (%s) ,alpha019= (%s) ,alpha020= (%s) ,alpha023= (%s) ,alpha024= (%s) ,alpha029= (%s) ,alpha032= (%s) ,alpha033= (%s) ,alpha034= (%s) ,alpha037= (%s) ,alpha038= (%s) ,alpha041= (%s) ,alpha042= (%s) ,alpha046= (%s) ,alpha056= (%s) ,update_flg= (%s)where stock_code = (%s) and trade_date = (%s)\"\n",
    "#         print(update_sqli,update_info)\n",
    "        cur.executemany(update_sqli,update_info)\n",
    "    except Exception as e:\n",
    "        print(\"更新多条数据失败:\", e)\n",
    "        return False\n",
    "    else:\n",
    "        # 如果是插入数据， 一定要提交数据， 不然数据库中找不到要插入的数据;\n",
    "        conn.commit()\n",
    "        return True\n",
    "def transform(df1,df2):\n",
    "    res = pd.merge(df1,df2,how='inner', on=['stock_code', 'stock_code'])\n",
    "    return res\n",
    "\n",
    "def seriesToDf(dic,k,v):\n",
    "    dict_alpha = {'stock_code':v.index,k:v.values}\n",
    "    #dic[k] = pd.DataFrame(dict_alpha)\n",
    "    return pd.DataFrame(dict_alpha)\n",
    "def get_df_from_db(sql):\n",
    "    return pd.read_sql(sql,conn)\n",
    "\n",
    "def insert_datares(df):\n",
    "    try:\n",
    "        insert_info = [tuple(xi) for xi in df.values] \n",
    "        insert_sqli = \"insert into trade_his values(%s,%s,%s,%s,%s,%s,%s,%s,%s,%s,%s,%s,%s,%s,%s,%s,%s,%s,%s,%s,%s,%s,%s,%s,%s,%s,%s,%s,%s,%s,%s,%s);\"   \n",
    "        cur.executemany(insert_sqli,insert_info)\n",
    "    except Exception as e:\n",
    "        print(\"插入多条数据失败:\", e)\n",
    "        return False\n",
    "    else:\n",
    "        # 如果是插入数据， 一定要提交数据， 不然数据库中找不到要插入的数据;\n",
    "        conn.commit()\n",
    "        return True\n",
    "\n",
    "def delete_data(df):\n",
    "    try:\n",
    "        del_info = [tuple(xi) for xi in df.values] \n",
    "        del_sqli = \"delete from trade_his where trade_date=%s and stock_code=%s\"\n",
    "#         print(update_sqli,update_info)\n",
    "        cur.executemany(del_sqli,del_info)\n",
    "    except Exception as e:\n",
    "        print(\"删除多条数据失败:\", e)\n",
    "        return False\n",
    "    else:\n",
    "        # 如果是插入数据， 一定要提交数据， 不然数据库中找不到要插入的数据;\n",
    "        print(\"删除成功\")\n",
    "        conn.commit()\n",
    "        return True"
   ]
  },
  {
   "cell_type": "code",
   "execution_count": 4,
   "metadata": {},
   "outputs": [],
   "source": [
    "def getAlpha(begin_date,stockList,df):\n",
    "\n",
    "    alpha_df = alpha(begin_date,stockList)\n",
    "    alpha_df = alpha_df.reset_index()\n",
    "    alpha_df.rename(columns = {\"index\": \"stock_code\"},  inplace=True)\n",
    "    alpha_df = alpha_df[['stock_code','alpha_001', 'alpha_018', 'alpha_029', 'alpha_038',        \n",
    "                 'alpha_004', 'alpha_019', 'alpha_032', 'alpha_041',\n",
    "                 'alpha_005', 'alpha_020', 'alpha_033', 'alpha_042',\n",
    "                 'alpha_008', 'alpha_023', 'alpha_034', 'alpha_046',\n",
    "                 'alpha_009', 'alpha_024', 'alpha_037', 'alpha_056']]\n",
    "    \n",
    "    df.rename(columns = {\"alpha_001\": \"alpha001\", \"alpha_018\":\"alpha018\",\n",
    "                         \"alpha_029\": \"alpha029\", \"alpha_038\":\"alpha038\",\n",
    "                         \"alpha_004\": \"alpha004\", \"alpha_019\":\"alpha019\",\n",
    "                         \"alpha_032\": \"alpha032\", \"alpha_041\":\"alpha041\",\n",
    "                         \"alpha_005\": \"alpha005\", \"alpha_020\":\"alpha020\",\n",
    "                         \"alpha_033\": \"alpha033\", \"alpha_042\":\"alpha042\",\n",
    "                         \"alpha_008\": \"alpha008\", \"alpha_023\":\"alpha023\",\n",
    "                         \"alpha_034\": \"alpha034\", \"alpha_046\":\"alpha046\",\n",
    "                         \"alpha_009\": \"alpha009\", \"alpha_024\":\"alpha024\",\n",
    "                         \"alpha_037\": \"alpha037\", \"alpha_056\":\"alpha056\"\n",
    "                        },  inplace=True)\n",
    "    df = transform(df,alpha_df)\n",
    "#     trade_date = df['trade_date']\n",
    "#     stock_code = df['stock_code']\n",
    "#     df.drop(labels=['trade_date'], axis=1,inplace = True)\n",
    "#     df.drop(labels=['stock_code'], axis=1,inplace = True)\n",
    "#     df.insert(20, 'update_flg','Y')\n",
    "#     df.insert(21, 'stock_code',stock_code)\n",
    "#     df.insert(22, 'trade_date',trade_date)\n",
    "    df['update_flg']='Y'\n",
    "    df = df.fillna(0)\n",
    "    return df\n",
    "   "
   ]
  },
  {
   "cell_type": "markdown",
   "metadata": {},
   "source": [
    "###### begin_date = datetime.date(2018,6,19)\n",
    "stockList = ['000001.XSHE','000002.XSHE']\n",
    "df = pd.DataFrame({'stock_code': ['000001.XSHE','000002.XSHE'], 'trade_date': ['a', 'b']})\n",
    "df = getAlpha(begin_date,stockList,df)\n",
    "print(df)"
   ]
  },
  {
   "cell_type": "code",
   "execution_count": null,
   "metadata": {
    "scrolled": true
   },
   "outputs": [
    {
     "name": "stdout",
     "output_type": "stream",
     "text": [
      "2007-07-01 非交易日:插入成功\n",
      "删除成功\n"
     ]
    },
    {
     "name": "stderr",
     "output_type": "stream",
     "text": [
      "/opt/conda/lib/python3.6/site-packages/jqlib/alpha101.py:3488: FutureWarning: Sorting because non-concatenation axis is not aligned. A future version\n",
      "of pandas will change to not sort by default.\n",
      "\n",
      "To accept the future behavior, pass 'sort=False'.\n",
      "\n",
      "To retain the current behavior and silence the warning, pass 'sort=True'.\n",
      "\n",
      "  result = pd.concat(result, axis=1, keys=alphas)\n"
     ]
    },
    {
     "name": "stdout",
     "output_type": "stream",
     "text": [
      "2007-07-02 插入成功\n",
      "删除成功\n"
     ]
    },
    {
     "name": "stderr",
     "output_type": "stream",
     "text": [
      "/opt/conda/lib/python3.6/site-packages/jqlib/alpha101.py:3488: FutureWarning: Sorting because non-concatenation axis is not aligned. A future version\n",
      "of pandas will change to not sort by default.\n",
      "\n",
      "To accept the future behavior, pass 'sort=False'.\n",
      "\n",
      "To retain the current behavior and silence the warning, pass 'sort=True'.\n",
      "\n",
      "  result = pd.concat(result, axis=1, keys=alphas)\n"
     ]
    },
    {
     "name": "stdout",
     "output_type": "stream",
     "text": [
      "2007-07-03 插入成功\n",
      "删除成功\n"
     ]
    },
    {
     "name": "stderr",
     "output_type": "stream",
     "text": [
      "/opt/conda/lib/python3.6/site-packages/jqlib/alpha101.py:3488: FutureWarning: Sorting because non-concatenation axis is not aligned. A future version\n",
      "of pandas will change to not sort by default.\n",
      "\n",
      "To accept the future behavior, pass 'sort=False'.\n",
      "\n",
      "To retain the current behavior and silence the warning, pass 'sort=True'.\n",
      "\n",
      "  result = pd.concat(result, axis=1, keys=alphas)\n"
     ]
    },
    {
     "name": "stdout",
     "output_type": "stream",
     "text": [
      "2007-07-04 插入成功\n",
      "删除成功\n"
     ]
    },
    {
     "name": "stderr",
     "output_type": "stream",
     "text": [
      "/opt/conda/lib/python3.6/site-packages/jqlib/alpha101.py:3488: FutureWarning: Sorting because non-concatenation axis is not aligned. A future version\n",
      "of pandas will change to not sort by default.\n",
      "\n",
      "To accept the future behavior, pass 'sort=False'.\n",
      "\n",
      "To retain the current behavior and silence the warning, pass 'sort=True'.\n",
      "\n",
      "  result = pd.concat(result, axis=1, keys=alphas)\n"
     ]
    },
    {
     "name": "stdout",
     "output_type": "stream",
     "text": [
      "2007-07-05 插入成功\n",
      "删除成功\n"
     ]
    },
    {
     "name": "stderr",
     "output_type": "stream",
     "text": [
      "/opt/conda/lib/python3.6/site-packages/jqlib/alpha101.py:3488: FutureWarning: Sorting because non-concatenation axis is not aligned. A future version\n",
      "of pandas will change to not sort by default.\n",
      "\n",
      "To accept the future behavior, pass 'sort=False'.\n",
      "\n",
      "To retain the current behavior and silence the warning, pass 'sort=True'.\n",
      "\n",
      "  result = pd.concat(result, axis=1, keys=alphas)\n"
     ]
    },
    {
     "name": "stdout",
     "output_type": "stream",
     "text": [
      "2007-07-06 插入成功\n",
      "2007-07-07 非交易日:插入成功\n",
      "2007-07-08 非交易日:插入成功\n",
      "删除成功\n"
     ]
    },
    {
     "name": "stderr",
     "output_type": "stream",
     "text": [
      "/opt/conda/lib/python3.6/site-packages/jqlib/alpha101.py:3488: FutureWarning: Sorting because non-concatenation axis is not aligned. A future version\n",
      "of pandas will change to not sort by default.\n",
      "\n",
      "To accept the future behavior, pass 'sort=False'.\n",
      "\n",
      "To retain the current behavior and silence the warning, pass 'sort=True'.\n",
      "\n",
      "  result = pd.concat(result, axis=1, keys=alphas)\n"
     ]
    },
    {
     "name": "stdout",
     "output_type": "stream",
     "text": [
      "2007-07-09 插入成功\n",
      "删除成功\n"
     ]
    },
    {
     "name": "stderr",
     "output_type": "stream",
     "text": [
      "/opt/conda/lib/python3.6/site-packages/jqlib/alpha101.py:3488: FutureWarning: Sorting because non-concatenation axis is not aligned. A future version\n",
      "of pandas will change to not sort by default.\n",
      "\n",
      "To accept the future behavior, pass 'sort=False'.\n",
      "\n",
      "To retain the current behavior and silence the warning, pass 'sort=True'.\n",
      "\n",
      "  result = pd.concat(result, axis=1, keys=alphas)\n"
     ]
    },
    {
     "name": "stdout",
     "output_type": "stream",
     "text": [
      "2007-07-10 插入成功\n",
      "删除成功\n"
     ]
    },
    {
     "name": "stderr",
     "output_type": "stream",
     "text": [
      "/opt/conda/lib/python3.6/site-packages/jqlib/alpha101.py:3488: FutureWarning: Sorting because non-concatenation axis is not aligned. A future version\n",
      "of pandas will change to not sort by default.\n",
      "\n",
      "To accept the future behavior, pass 'sort=False'.\n",
      "\n",
      "To retain the current behavior and silence the warning, pass 'sort=True'.\n",
      "\n",
      "  result = pd.concat(result, axis=1, keys=alphas)\n"
     ]
    },
    {
     "name": "stdout",
     "output_type": "stream",
     "text": [
      "2007-07-11 插入成功\n",
      "删除成功\n"
     ]
    },
    {
     "name": "stderr",
     "output_type": "stream",
     "text": [
      "/opt/conda/lib/python3.6/site-packages/jqlib/alpha101.py:3488: FutureWarning: Sorting because non-concatenation axis is not aligned. A future version\n",
      "of pandas will change to not sort by default.\n",
      "\n",
      "To accept the future behavior, pass 'sort=False'.\n",
      "\n",
      "To retain the current behavior and silence the warning, pass 'sort=True'.\n",
      "\n",
      "  result = pd.concat(result, axis=1, keys=alphas)\n"
     ]
    },
    {
     "name": "stdout",
     "output_type": "stream",
     "text": [
      "2007-07-12 插入成功\n",
      "删除成功\n"
     ]
    },
    {
     "name": "stderr",
     "output_type": "stream",
     "text": [
      "/opt/conda/lib/python3.6/site-packages/jqlib/alpha101.py:3488: FutureWarning: Sorting because non-concatenation axis is not aligned. A future version\n",
      "of pandas will change to not sort by default.\n",
      "\n",
      "To accept the future behavior, pass 'sort=False'.\n",
      "\n",
      "To retain the current behavior and silence the warning, pass 'sort=True'.\n",
      "\n",
      "  result = pd.concat(result, axis=1, keys=alphas)\n"
     ]
    },
    {
     "name": "stdout",
     "output_type": "stream",
     "text": [
      "2007-07-13 插入成功\n",
      "2007-07-14 非交易日:插入成功\n",
      "2007-07-15 非交易日:插入成功\n",
      "删除成功\n"
     ]
    },
    {
     "name": "stderr",
     "output_type": "stream",
     "text": [
      "/opt/conda/lib/python3.6/site-packages/jqlib/alpha101.py:3488: FutureWarning: Sorting because non-concatenation axis is not aligned. A future version\n",
      "of pandas will change to not sort by default.\n",
      "\n",
      "To accept the future behavior, pass 'sort=False'.\n",
      "\n",
      "To retain the current behavior and silence the warning, pass 'sort=True'.\n",
      "\n",
      "  result = pd.concat(result, axis=1, keys=alphas)\n"
     ]
    },
    {
     "name": "stdout",
     "output_type": "stream",
     "text": [
      "2007-07-16 插入成功\n",
      "删除成功\n"
     ]
    },
    {
     "name": "stderr",
     "output_type": "stream",
     "text": [
      "/opt/conda/lib/python3.6/site-packages/jqlib/alpha101.py:3488: FutureWarning: Sorting because non-concatenation axis is not aligned. A future version\n",
      "of pandas will change to not sort by default.\n",
      "\n",
      "To accept the future behavior, pass 'sort=False'.\n",
      "\n",
      "To retain the current behavior and silence the warning, pass 'sort=True'.\n",
      "\n",
      "  result = pd.concat(result, axis=1, keys=alphas)\n"
     ]
    },
    {
     "name": "stdout",
     "output_type": "stream",
     "text": [
      "2007-07-17 插入成功\n",
      "删除成功\n"
     ]
    },
    {
     "name": "stderr",
     "output_type": "stream",
     "text": [
      "/opt/conda/lib/python3.6/site-packages/jqlib/alpha101.py:3488: FutureWarning: Sorting because non-concatenation axis is not aligned. A future version\n",
      "of pandas will change to not sort by default.\n",
      "\n",
      "To accept the future behavior, pass 'sort=False'.\n",
      "\n",
      "To retain the current behavior and silence the warning, pass 'sort=True'.\n",
      "\n",
      "  result = pd.concat(result, axis=1, keys=alphas)\n"
     ]
    },
    {
     "name": "stdout",
     "output_type": "stream",
     "text": [
      "2007-07-18 插入成功\n",
      "删除成功\n"
     ]
    },
    {
     "name": "stderr",
     "output_type": "stream",
     "text": [
      "/opt/conda/lib/python3.6/site-packages/jqlib/alpha101.py:3488: FutureWarning: Sorting because non-concatenation axis is not aligned. A future version\n",
      "of pandas will change to not sort by default.\n",
      "\n",
      "To accept the future behavior, pass 'sort=False'.\n",
      "\n",
      "To retain the current behavior and silence the warning, pass 'sort=True'.\n",
      "\n",
      "  result = pd.concat(result, axis=1, keys=alphas)\n"
     ]
    },
    {
     "name": "stdout",
     "output_type": "stream",
     "text": [
      "2007-07-19 插入成功\n",
      "删除成功\n"
     ]
    },
    {
     "name": "stderr",
     "output_type": "stream",
     "text": [
      "/opt/conda/lib/python3.6/site-packages/jqlib/alpha101.py:3488: FutureWarning: Sorting because non-concatenation axis is not aligned. A future version\n",
      "of pandas will change to not sort by default.\n",
      "\n",
      "To accept the future behavior, pass 'sort=False'.\n",
      "\n",
      "To retain the current behavior and silence the warning, pass 'sort=True'.\n",
      "\n",
      "  result = pd.concat(result, axis=1, keys=alphas)\n"
     ]
    },
    {
     "name": "stdout",
     "output_type": "stream",
     "text": [
      "2007-07-20 插入成功\n",
      "2007-07-21 非交易日:插入成功\n",
      "2007-07-22 非交易日:插入成功\n",
      "删除成功\n"
     ]
    },
    {
     "name": "stderr",
     "output_type": "stream",
     "text": [
      "/opt/conda/lib/python3.6/site-packages/jqlib/alpha101.py:3488: FutureWarning: Sorting because non-concatenation axis is not aligned. A future version\n",
      "of pandas will change to not sort by default.\n",
      "\n",
      "To accept the future behavior, pass 'sort=False'.\n",
      "\n",
      "To retain the current behavior and silence the warning, pass 'sort=True'.\n",
      "\n",
      "  result = pd.concat(result, axis=1, keys=alphas)\n"
     ]
    },
    {
     "name": "stdout",
     "output_type": "stream",
     "text": [
      "2007-07-23 插入成功\n",
      "删除成功\n"
     ]
    },
    {
     "name": "stderr",
     "output_type": "stream",
     "text": [
      "/opt/conda/lib/python3.6/site-packages/jqlib/alpha101.py:3488: FutureWarning: Sorting because non-concatenation axis is not aligned. A future version\n",
      "of pandas will change to not sort by default.\n",
      "\n",
      "To accept the future behavior, pass 'sort=False'.\n",
      "\n",
      "To retain the current behavior and silence the warning, pass 'sort=True'.\n",
      "\n",
      "  result = pd.concat(result, axis=1, keys=alphas)\n"
     ]
    },
    {
     "name": "stdout",
     "output_type": "stream",
     "text": [
      "2007-07-24 插入成功\n",
      "2007-07-25 非交易日:插入成功\n",
      "2007-07-26 非交易日:插入成功\n",
      "2007-07-27 非交易日:插入成功\n",
      "2007-07-28 非交易日:插入成功\n",
      "2007-07-29 非交易日:插入成功\n",
      "删除成功\n"
     ]
    },
    {
     "name": "stderr",
     "output_type": "stream",
     "text": [
      "/opt/conda/lib/python3.6/site-packages/jqlib/alpha101.py:3488: FutureWarning: Sorting because non-concatenation axis is not aligned. A future version\n",
      "of pandas will change to not sort by default.\n",
      "\n",
      "To accept the future behavior, pass 'sort=False'.\n",
      "\n",
      "To retain the current behavior and silence the warning, pass 'sort=True'.\n",
      "\n",
      "  result = pd.concat(result, axis=1, keys=alphas)\n"
     ]
    },
    {
     "name": "stdout",
     "output_type": "stream",
     "text": [
      "2007-07-30 插入成功\n",
      "删除成功\n"
     ]
    },
    {
     "name": "stderr",
     "output_type": "stream",
     "text": [
      "/opt/conda/lib/python3.6/site-packages/jqlib/alpha101.py:3488: FutureWarning: Sorting because non-concatenation axis is not aligned. A future version\n",
      "of pandas will change to not sort by default.\n",
      "\n",
      "To accept the future behavior, pass 'sort=False'.\n",
      "\n",
      "To retain the current behavior and silence the warning, pass 'sort=True'.\n",
      "\n",
      "  result = pd.concat(result, axis=1, keys=alphas)\n"
     ]
    },
    {
     "name": "stdout",
     "output_type": "stream",
     "text": [
      "2007-07-31 插入成功\n",
      "删除成功\n"
     ]
    },
    {
     "name": "stderr",
     "output_type": "stream",
     "text": [
      "/opt/conda/lib/python3.6/site-packages/jqlib/alpha101.py:3488: FutureWarning: Sorting because non-concatenation axis is not aligned. A future version\n",
      "of pandas will change to not sort by default.\n",
      "\n",
      "To accept the future behavior, pass 'sort=False'.\n",
      "\n",
      "To retain the current behavior and silence the warning, pass 'sort=True'.\n",
      "\n",
      "  result = pd.concat(result, axis=1, keys=alphas)\n"
     ]
    },
    {
     "name": "stdout",
     "output_type": "stream",
     "text": [
      "2007-08-01 插入成功\n",
      "删除成功\n"
     ]
    },
    {
     "name": "stderr",
     "output_type": "stream",
     "text": [
      "/opt/conda/lib/python3.6/site-packages/jqlib/alpha101.py:3488: FutureWarning: Sorting because non-concatenation axis is not aligned. A future version\n",
      "of pandas will change to not sort by default.\n",
      "\n",
      "To accept the future behavior, pass 'sort=False'.\n",
      "\n",
      "To retain the current behavior and silence the warning, pass 'sort=True'.\n",
      "\n",
      "  result = pd.concat(result, axis=1, keys=alphas)\n"
     ]
    },
    {
     "name": "stdout",
     "output_type": "stream",
     "text": [
      "2007-08-02 插入成功\n",
      "删除成功\n"
     ]
    },
    {
     "name": "stderr",
     "output_type": "stream",
     "text": [
      "/opt/conda/lib/python3.6/site-packages/jqlib/alpha101.py:3488: FutureWarning: Sorting because non-concatenation axis is not aligned. A future version\n",
      "of pandas will change to not sort by default.\n",
      "\n",
      "To accept the future behavior, pass 'sort=False'.\n",
      "\n",
      "To retain the current behavior and silence the warning, pass 'sort=True'.\n",
      "\n",
      "  result = pd.concat(result, axis=1, keys=alphas)\n"
     ]
    },
    {
     "name": "stdout",
     "output_type": "stream",
     "text": [
      "2007-08-03 插入成功\n",
      "2007-08-04 非交易日:插入成功\n",
      "2007-08-05 非交易日:插入成功\n",
      "删除成功\n"
     ]
    },
    {
     "name": "stderr",
     "output_type": "stream",
     "text": [
      "/opt/conda/lib/python3.6/site-packages/jqlib/alpha101.py:3488: FutureWarning: Sorting because non-concatenation axis is not aligned. A future version\n",
      "of pandas will change to not sort by default.\n",
      "\n",
      "To accept the future behavior, pass 'sort=False'.\n",
      "\n",
      "To retain the current behavior and silence the warning, pass 'sort=True'.\n",
      "\n",
      "  result = pd.concat(result, axis=1, keys=alphas)\n"
     ]
    },
    {
     "name": "stdout",
     "output_type": "stream",
     "text": [
      "2007-08-06 插入成功\n",
      "删除成功\n"
     ]
    },
    {
     "name": "stderr",
     "output_type": "stream",
     "text": [
      "/opt/conda/lib/python3.6/site-packages/jqlib/alpha101.py:3488: FutureWarning: Sorting because non-concatenation axis is not aligned. A future version\n",
      "of pandas will change to not sort by default.\n",
      "\n",
      "To accept the future behavior, pass 'sort=False'.\n",
      "\n",
      "To retain the current behavior and silence the warning, pass 'sort=True'.\n",
      "\n",
      "  result = pd.concat(result, axis=1, keys=alphas)\n"
     ]
    },
    {
     "name": "stdout",
     "output_type": "stream",
     "text": [
      "2007-08-07 插入成功\n",
      "删除成功\n"
     ]
    },
    {
     "name": "stderr",
     "output_type": "stream",
     "text": [
      "/opt/conda/lib/python3.6/site-packages/jqlib/alpha101.py:3488: FutureWarning: Sorting because non-concatenation axis is not aligned. A future version\n",
      "of pandas will change to not sort by default.\n",
      "\n",
      "To accept the future behavior, pass 'sort=False'.\n",
      "\n",
      "To retain the current behavior and silence the warning, pass 'sort=True'.\n",
      "\n",
      "  result = pd.concat(result, axis=1, keys=alphas)\n"
     ]
    },
    {
     "name": "stdout",
     "output_type": "stream",
     "text": [
      "2007-08-08 插入成功\n",
      "删除成功\n"
     ]
    },
    {
     "name": "stderr",
     "output_type": "stream",
     "text": [
      "/opt/conda/lib/python3.6/site-packages/jqlib/alpha101.py:3488: FutureWarning: Sorting because non-concatenation axis is not aligned. A future version\n",
      "of pandas will change to not sort by default.\n",
      "\n",
      "To accept the future behavior, pass 'sort=False'.\n",
      "\n",
      "To retain the current behavior and silence the warning, pass 'sort=True'.\n",
      "\n",
      "  result = pd.concat(result, axis=1, keys=alphas)\n"
     ]
    },
    {
     "name": "stdout",
     "output_type": "stream",
     "text": [
      "2007-08-09 插入成功\n",
      "删除成功\n"
     ]
    },
    {
     "name": "stderr",
     "output_type": "stream",
     "text": [
      "/opt/conda/lib/python3.6/site-packages/jqlib/alpha101.py:3488: FutureWarning: Sorting because non-concatenation axis is not aligned. A future version\n",
      "of pandas will change to not sort by default.\n",
      "\n",
      "To accept the future behavior, pass 'sort=False'.\n",
      "\n",
      "To retain the current behavior and silence the warning, pass 'sort=True'.\n",
      "\n",
      "  result = pd.concat(result, axis=1, keys=alphas)\n"
     ]
    },
    {
     "name": "stdout",
     "output_type": "stream",
     "text": [
      "2007-08-10 插入成功\n",
      "2007-08-11 非交易日:插入成功\n",
      "2007-08-12 非交易日:插入成功\n",
      "删除成功\n"
     ]
    },
    {
     "name": "stderr",
     "output_type": "stream",
     "text": [
      "/opt/conda/lib/python3.6/site-packages/jqlib/alpha101.py:3488: FutureWarning: Sorting because non-concatenation axis is not aligned. A future version\n",
      "of pandas will change to not sort by default.\n",
      "\n",
      "To accept the future behavior, pass 'sort=False'.\n",
      "\n",
      "To retain the current behavior and silence the warning, pass 'sort=True'.\n",
      "\n",
      "  result = pd.concat(result, axis=1, keys=alphas)\n"
     ]
    },
    {
     "name": "stdout",
     "output_type": "stream",
     "text": [
      "2007-08-13 插入成功\n",
      "删除成功\n"
     ]
    },
    {
     "name": "stderr",
     "output_type": "stream",
     "text": [
      "/opt/conda/lib/python3.6/site-packages/jqlib/alpha101.py:3488: FutureWarning: Sorting because non-concatenation axis is not aligned. A future version\n",
      "of pandas will change to not sort by default.\n",
      "\n",
      "To accept the future behavior, pass 'sort=False'.\n",
      "\n",
      "To retain the current behavior and silence the warning, pass 'sort=True'.\n",
      "\n",
      "  result = pd.concat(result, axis=1, keys=alphas)\n"
     ]
    },
    {
     "name": "stdout",
     "output_type": "stream",
     "text": [
      "2007-08-14 插入成功\n",
      "删除成功\n"
     ]
    },
    {
     "name": "stderr",
     "output_type": "stream",
     "text": [
      "/opt/conda/lib/python3.6/site-packages/jqlib/alpha101.py:3488: FutureWarning: Sorting because non-concatenation axis is not aligned. A future version\n",
      "of pandas will change to not sort by default.\n",
      "\n",
      "To accept the future behavior, pass 'sort=False'.\n",
      "\n",
      "To retain the current behavior and silence the warning, pass 'sort=True'.\n",
      "\n",
      "  result = pd.concat(result, axis=1, keys=alphas)\n"
     ]
    },
    {
     "name": "stdout",
     "output_type": "stream",
     "text": [
      "2007-08-15 插入成功\n",
      "删除成功\n"
     ]
    },
    {
     "name": "stderr",
     "output_type": "stream",
     "text": [
      "/opt/conda/lib/python3.6/site-packages/jqlib/alpha101.py:3488: FutureWarning: Sorting because non-concatenation axis is not aligned. A future version\n",
      "of pandas will change to not sort by default.\n",
      "\n",
      "To accept the future behavior, pass 'sort=False'.\n",
      "\n",
      "To retain the current behavior and silence the warning, pass 'sort=True'.\n",
      "\n",
      "  result = pd.concat(result, axis=1, keys=alphas)\n"
     ]
    },
    {
     "name": "stdout",
     "output_type": "stream",
     "text": [
      "2007-08-16 插入成功\n",
      "删除成功\n"
     ]
    },
    {
     "name": "stderr",
     "output_type": "stream",
     "text": [
      "/opt/conda/lib/python3.6/site-packages/jqlib/alpha101.py:3488: FutureWarning: Sorting because non-concatenation axis is not aligned. A future version\n",
      "of pandas will change to not sort by default.\n",
      "\n",
      "To accept the future behavior, pass 'sort=False'.\n",
      "\n",
      "To retain the current behavior and silence the warning, pass 'sort=True'.\n",
      "\n",
      "  result = pd.concat(result, axis=1, keys=alphas)\n"
     ]
    },
    {
     "name": "stdout",
     "output_type": "stream",
     "text": [
      "2007-08-17 插入成功\n",
      "2007-08-18 非交易日:插入成功\n",
      "2007-08-19 非交易日:插入成功\n",
      "删除成功\n"
     ]
    },
    {
     "name": "stderr",
     "output_type": "stream",
     "text": [
      "/opt/conda/lib/python3.6/site-packages/jqlib/alpha101.py:3488: FutureWarning: Sorting because non-concatenation axis is not aligned. A future version\n",
      "of pandas will change to not sort by default.\n",
      "\n",
      "To accept the future behavior, pass 'sort=False'.\n",
      "\n",
      "To retain the current behavior and silence the warning, pass 'sort=True'.\n",
      "\n",
      "  result = pd.concat(result, axis=1, keys=alphas)\n"
     ]
    },
    {
     "name": "stdout",
     "output_type": "stream",
     "text": [
      "2007-08-20 插入成功\n",
      "删除成功\n"
     ]
    },
    {
     "name": "stderr",
     "output_type": "stream",
     "text": [
      "/opt/conda/lib/python3.6/site-packages/jqlib/alpha101.py:3488: FutureWarning: Sorting because non-concatenation axis is not aligned. A future version\n",
      "of pandas will change to not sort by default.\n",
      "\n",
      "To accept the future behavior, pass 'sort=False'.\n",
      "\n",
      "To retain the current behavior and silence the warning, pass 'sort=True'.\n",
      "\n",
      "  result = pd.concat(result, axis=1, keys=alphas)\n"
     ]
    },
    {
     "name": "stdout",
     "output_type": "stream",
     "text": [
      "2007-08-21 插入成功\n",
      "删除成功\n"
     ]
    },
    {
     "name": "stderr",
     "output_type": "stream",
     "text": [
      "/opt/conda/lib/python3.6/site-packages/jqlib/alpha101.py:3488: FutureWarning: Sorting because non-concatenation axis is not aligned. A future version\n",
      "of pandas will change to not sort by default.\n",
      "\n",
      "To accept the future behavior, pass 'sort=False'.\n",
      "\n",
      "To retain the current behavior and silence the warning, pass 'sort=True'.\n",
      "\n",
      "  result = pd.concat(result, axis=1, keys=alphas)\n"
     ]
    },
    {
     "name": "stdout",
     "output_type": "stream",
     "text": [
      "2007-08-22 插入成功\n",
      "删除成功\n"
     ]
    },
    {
     "name": "stderr",
     "output_type": "stream",
     "text": [
      "/opt/conda/lib/python3.6/site-packages/jqlib/alpha101.py:3488: FutureWarning: Sorting because non-concatenation axis is not aligned. A future version\n",
      "of pandas will change to not sort by default.\n",
      "\n",
      "To accept the future behavior, pass 'sort=False'.\n",
      "\n",
      "To retain the current behavior and silence the warning, pass 'sort=True'.\n",
      "\n",
      "  result = pd.concat(result, axis=1, keys=alphas)\n"
     ]
    },
    {
     "name": "stdout",
     "output_type": "stream",
     "text": [
      "2007-08-23 插入成功\n",
      "删除成功\n"
     ]
    },
    {
     "name": "stderr",
     "output_type": "stream",
     "text": [
      "/opt/conda/lib/python3.6/site-packages/jqlib/alpha101.py:3488: FutureWarning: Sorting because non-concatenation axis is not aligned. A future version\n",
      "of pandas will change to not sort by default.\n",
      "\n",
      "To accept the future behavior, pass 'sort=False'.\n",
      "\n",
      "To retain the current behavior and silence the warning, pass 'sort=True'.\n",
      "\n",
      "  result = pd.concat(result, axis=1, keys=alphas)\n"
     ]
    },
    {
     "name": "stdout",
     "output_type": "stream",
     "text": [
      "2007-08-24 插入成功\n",
      "2007-08-25 非交易日:插入成功\n",
      "2007-08-26 非交易日:插入成功\n",
      "删除成功\n"
     ]
    },
    {
     "name": "stderr",
     "output_type": "stream",
     "text": [
      "/opt/conda/lib/python3.6/site-packages/jqlib/alpha101.py:3488: FutureWarning: Sorting because non-concatenation axis is not aligned. A future version\n",
      "of pandas will change to not sort by default.\n",
      "\n",
      "To accept the future behavior, pass 'sort=False'.\n",
      "\n",
      "To retain the current behavior and silence the warning, pass 'sort=True'.\n",
      "\n",
      "  result = pd.concat(result, axis=1, keys=alphas)\n"
     ]
    },
    {
     "name": "stdout",
     "output_type": "stream",
     "text": [
      "2007-08-27 插入成功\n",
      "删除成功\n"
     ]
    },
    {
     "name": "stderr",
     "output_type": "stream",
     "text": [
      "/opt/conda/lib/python3.6/site-packages/jqlib/alpha101.py:3488: FutureWarning: Sorting because non-concatenation axis is not aligned. A future version\n",
      "of pandas will change to not sort by default.\n",
      "\n",
      "To accept the future behavior, pass 'sort=False'.\n",
      "\n",
      "To retain the current behavior and silence the warning, pass 'sort=True'.\n",
      "\n",
      "  result = pd.concat(result, axis=1, keys=alphas)\n"
     ]
    },
    {
     "name": "stdout",
     "output_type": "stream",
     "text": [
      "2007-08-28 插入成功\n",
      "删除成功\n"
     ]
    },
    {
     "name": "stderr",
     "output_type": "stream",
     "text": [
      "/opt/conda/lib/python3.6/site-packages/jqlib/alpha101.py:3488: FutureWarning: Sorting because non-concatenation axis is not aligned. A future version\n",
      "of pandas will change to not sort by default.\n",
      "\n",
      "To accept the future behavior, pass 'sort=False'.\n",
      "\n",
      "To retain the current behavior and silence the warning, pass 'sort=True'.\n",
      "\n",
      "  result = pd.concat(result, axis=1, keys=alphas)\n"
     ]
    },
    {
     "name": "stdout",
     "output_type": "stream",
     "text": [
      "2007-08-29 插入成功\n",
      "删除成功\n"
     ]
    },
    {
     "name": "stderr",
     "output_type": "stream",
     "text": [
      "/opt/conda/lib/python3.6/site-packages/jqlib/alpha101.py:3488: FutureWarning: Sorting because non-concatenation axis is not aligned. A future version\n",
      "of pandas will change to not sort by default.\n",
      "\n",
      "To accept the future behavior, pass 'sort=False'.\n",
      "\n",
      "To retain the current behavior and silence the warning, pass 'sort=True'.\n",
      "\n",
      "  result = pd.concat(result, axis=1, keys=alphas)\n"
     ]
    },
    {
     "name": "stdout",
     "output_type": "stream",
     "text": [
      "2007-08-30 插入成功\n",
      "删除成功\n"
     ]
    },
    {
     "name": "stderr",
     "output_type": "stream",
     "text": [
      "/opt/conda/lib/python3.6/site-packages/jqlib/alpha101.py:3488: FutureWarning: Sorting because non-concatenation axis is not aligned. A future version\n",
      "of pandas will change to not sort by default.\n",
      "\n",
      "To accept the future behavior, pass 'sort=False'.\n",
      "\n",
      "To retain the current behavior and silence the warning, pass 'sort=True'.\n",
      "\n",
      "  result = pd.concat(result, axis=1, keys=alphas)\n"
     ]
    },
    {
     "name": "stdout",
     "output_type": "stream",
     "text": [
      "2007-08-31 插入成功\n",
      "2007-09-01 非交易日:插入成功\n",
      "2007-09-02 非交易日:插入成功\n",
      "删除成功\n"
     ]
    },
    {
     "name": "stderr",
     "output_type": "stream",
     "text": [
      "/opt/conda/lib/python3.6/site-packages/jqlib/alpha101.py:3488: FutureWarning: Sorting because non-concatenation axis is not aligned. A future version\n",
      "of pandas will change to not sort by default.\n",
      "\n",
      "To accept the future behavior, pass 'sort=False'.\n",
      "\n",
      "To retain the current behavior and silence the warning, pass 'sort=True'.\n",
      "\n",
      "  result = pd.concat(result, axis=1, keys=alphas)\n"
     ]
    },
    {
     "name": "stdout",
     "output_type": "stream",
     "text": [
      "2007-09-03 插入成功\n",
      "删除成功\n"
     ]
    },
    {
     "name": "stderr",
     "output_type": "stream",
     "text": [
      "/opt/conda/lib/python3.6/site-packages/jqlib/alpha101.py:3488: FutureWarning: Sorting because non-concatenation axis is not aligned. A future version\n",
      "of pandas will change to not sort by default.\n",
      "\n",
      "To accept the future behavior, pass 'sort=False'.\n",
      "\n",
      "To retain the current behavior and silence the warning, pass 'sort=True'.\n",
      "\n",
      "  result = pd.concat(result, axis=1, keys=alphas)\n"
     ]
    },
    {
     "name": "stdout",
     "output_type": "stream",
     "text": [
      "2007-09-04 插入成功\n",
      "删除成功\n"
     ]
    },
    {
     "name": "stderr",
     "output_type": "stream",
     "text": [
      "/opt/conda/lib/python3.6/site-packages/jqlib/alpha101.py:3488: FutureWarning: Sorting because non-concatenation axis is not aligned. A future version\n",
      "of pandas will change to not sort by default.\n",
      "\n",
      "To accept the future behavior, pass 'sort=False'.\n",
      "\n",
      "To retain the current behavior and silence the warning, pass 'sort=True'.\n",
      "\n",
      "  result = pd.concat(result, axis=1, keys=alphas)\n"
     ]
    },
    {
     "name": "stdout",
     "output_type": "stream",
     "text": [
      "2007-09-05 插入成功\n",
      "删除成功\n"
     ]
    },
    {
     "name": "stderr",
     "output_type": "stream",
     "text": [
      "/opt/conda/lib/python3.6/site-packages/jqlib/alpha101.py:3488: FutureWarning: Sorting because non-concatenation axis is not aligned. A future version\n",
      "of pandas will change to not sort by default.\n",
      "\n",
      "To accept the future behavior, pass 'sort=False'.\n",
      "\n",
      "To retain the current behavior and silence the warning, pass 'sort=True'.\n",
      "\n",
      "  result = pd.concat(result, axis=1, keys=alphas)\n"
     ]
    },
    {
     "name": "stdout",
     "output_type": "stream",
     "text": [
      "2007-09-06 插入成功\n",
      "删除成功\n"
     ]
    },
    {
     "name": "stderr",
     "output_type": "stream",
     "text": [
      "/opt/conda/lib/python3.6/site-packages/jqlib/alpha101.py:3488: FutureWarning: Sorting because non-concatenation axis is not aligned. A future version\n",
      "of pandas will change to not sort by default.\n",
      "\n",
      "To accept the future behavior, pass 'sort=False'.\n",
      "\n",
      "To retain the current behavior and silence the warning, pass 'sort=True'.\n",
      "\n",
      "  result = pd.concat(result, axis=1, keys=alphas)\n"
     ]
    },
    {
     "name": "stdout",
     "output_type": "stream",
     "text": [
      "2007-09-07 插入成功\n",
      "2007-09-08 非交易日:插入成功\n",
      "2007-09-09 非交易日:插入成功\n",
      "删除成功\n"
     ]
    },
    {
     "name": "stderr",
     "output_type": "stream",
     "text": [
      "/opt/conda/lib/python3.6/site-packages/jqlib/alpha101.py:3488: FutureWarning: Sorting because non-concatenation axis is not aligned. A future version\n",
      "of pandas will change to not sort by default.\n",
      "\n",
      "To accept the future behavior, pass 'sort=False'.\n",
      "\n",
      "To retain the current behavior and silence the warning, pass 'sort=True'.\n",
      "\n",
      "  result = pd.concat(result, axis=1, keys=alphas)\n"
     ]
    },
    {
     "name": "stdout",
     "output_type": "stream",
     "text": [
      "2007-09-10 插入成功\n",
      "删除成功\n"
     ]
    },
    {
     "name": "stderr",
     "output_type": "stream",
     "text": [
      "/opt/conda/lib/python3.6/site-packages/jqlib/alpha101.py:3488: FutureWarning: Sorting because non-concatenation axis is not aligned. A future version\n",
      "of pandas will change to not sort by default.\n",
      "\n",
      "To accept the future behavior, pass 'sort=False'.\n",
      "\n",
      "To retain the current behavior and silence the warning, pass 'sort=True'.\n",
      "\n",
      "  result = pd.concat(result, axis=1, keys=alphas)\n"
     ]
    },
    {
     "name": "stdout",
     "output_type": "stream",
     "text": [
      "2007-09-11 插入成功\n",
      "删除成功\n"
     ]
    },
    {
     "name": "stderr",
     "output_type": "stream",
     "text": [
      "/opt/conda/lib/python3.6/site-packages/jqlib/alpha101.py:3488: FutureWarning: Sorting because non-concatenation axis is not aligned. A future version\n",
      "of pandas will change to not sort by default.\n",
      "\n",
      "To accept the future behavior, pass 'sort=False'.\n",
      "\n",
      "To retain the current behavior and silence the warning, pass 'sort=True'.\n",
      "\n",
      "  result = pd.concat(result, axis=1, keys=alphas)\n"
     ]
    },
    {
     "name": "stdout",
     "output_type": "stream",
     "text": [
      "2007-09-12 插入成功\n",
      "删除成功\n"
     ]
    },
    {
     "name": "stderr",
     "output_type": "stream",
     "text": [
      "/opt/conda/lib/python3.6/site-packages/jqlib/alpha101.py:3488: FutureWarning: Sorting because non-concatenation axis is not aligned. A future version\n",
      "of pandas will change to not sort by default.\n",
      "\n",
      "To accept the future behavior, pass 'sort=False'.\n",
      "\n",
      "To retain the current behavior and silence the warning, pass 'sort=True'.\n",
      "\n",
      "  result = pd.concat(result, axis=1, keys=alphas)\n"
     ]
    },
    {
     "name": "stdout",
     "output_type": "stream",
     "text": [
      "2007-09-13 插入成功\n",
      "删除成功\n"
     ]
    },
    {
     "name": "stderr",
     "output_type": "stream",
     "text": [
      "/opt/conda/lib/python3.6/site-packages/jqlib/alpha101.py:3488: FutureWarning: Sorting because non-concatenation axis is not aligned. A future version\n",
      "of pandas will change to not sort by default.\n",
      "\n",
      "To accept the future behavior, pass 'sort=False'.\n",
      "\n",
      "To retain the current behavior and silence the warning, pass 'sort=True'.\n",
      "\n",
      "  result = pd.concat(result, axis=1, keys=alphas)\n"
     ]
    },
    {
     "name": "stdout",
     "output_type": "stream",
     "text": [
      "2007-09-14 插入成功\n",
      "2007-09-15 非交易日:插入成功\n",
      "2007-09-16 非交易日:插入成功\n",
      "删除成功\n"
     ]
    },
    {
     "name": "stderr",
     "output_type": "stream",
     "text": [
      "/opt/conda/lib/python3.6/site-packages/jqlib/alpha101.py:3488: FutureWarning: Sorting because non-concatenation axis is not aligned. A future version\n",
      "of pandas will change to not sort by default.\n",
      "\n",
      "To accept the future behavior, pass 'sort=False'.\n",
      "\n",
      "To retain the current behavior and silence the warning, pass 'sort=True'.\n",
      "\n",
      "  result = pd.concat(result, axis=1, keys=alphas)\n"
     ]
    },
    {
     "name": "stdout",
     "output_type": "stream",
     "text": [
      "2007-09-17 插入成功\n",
      "删除成功\n"
     ]
    },
    {
     "name": "stderr",
     "output_type": "stream",
     "text": [
      "/opt/conda/lib/python3.6/site-packages/jqlib/alpha101.py:3488: FutureWarning: Sorting because non-concatenation axis is not aligned. A future version\n",
      "of pandas will change to not sort by default.\n",
      "\n",
      "To accept the future behavior, pass 'sort=False'.\n",
      "\n",
      "To retain the current behavior and silence the warning, pass 'sort=True'.\n",
      "\n",
      "  result = pd.concat(result, axis=1, keys=alphas)\n"
     ]
    },
    {
     "name": "stdout",
     "output_type": "stream",
     "text": [
      "2007-09-18 插入成功\n",
      "删除成功\n"
     ]
    },
    {
     "name": "stderr",
     "output_type": "stream",
     "text": [
      "/opt/conda/lib/python3.6/site-packages/jqlib/alpha101.py:3488: FutureWarning: Sorting because non-concatenation axis is not aligned. A future version\n",
      "of pandas will change to not sort by default.\n",
      "\n",
      "To accept the future behavior, pass 'sort=False'.\n",
      "\n",
      "To retain the current behavior and silence the warning, pass 'sort=True'.\n",
      "\n",
      "  result = pd.concat(result, axis=1, keys=alphas)\n"
     ]
    },
    {
     "name": "stdout",
     "output_type": "stream",
     "text": [
      "2007-09-19 插入成功\n",
      "删除成功\n"
     ]
    },
    {
     "name": "stderr",
     "output_type": "stream",
     "text": [
      "/opt/conda/lib/python3.6/site-packages/jqlib/alpha101.py:3488: FutureWarning: Sorting because non-concatenation axis is not aligned. A future version\n",
      "of pandas will change to not sort by default.\n",
      "\n",
      "To accept the future behavior, pass 'sort=False'.\n",
      "\n",
      "To retain the current behavior and silence the warning, pass 'sort=True'.\n",
      "\n",
      "  result = pd.concat(result, axis=1, keys=alphas)\n"
     ]
    },
    {
     "name": "stdout",
     "output_type": "stream",
     "text": [
      "2007-09-20 插入成功\n",
      "删除成功\n"
     ]
    },
    {
     "name": "stderr",
     "output_type": "stream",
     "text": [
      "/opt/conda/lib/python3.6/site-packages/jqlib/alpha101.py:3488: FutureWarning: Sorting because non-concatenation axis is not aligned. A future version\n",
      "of pandas will change to not sort by default.\n",
      "\n",
      "To accept the future behavior, pass 'sort=False'.\n",
      "\n",
      "To retain the current behavior and silence the warning, pass 'sort=True'.\n",
      "\n",
      "  result = pd.concat(result, axis=1, keys=alphas)\n"
     ]
    },
    {
     "name": "stdout",
     "output_type": "stream",
     "text": [
      "2007-09-21 插入成功\n",
      "2007-09-22 非交易日:插入成功\n",
      "2007-09-23 非交易日:插入成功\n",
      "删除成功\n"
     ]
    },
    {
     "name": "stderr",
     "output_type": "stream",
     "text": [
      "/opt/conda/lib/python3.6/site-packages/jqlib/alpha101.py:3488: FutureWarning: Sorting because non-concatenation axis is not aligned. A future version\n",
      "of pandas will change to not sort by default.\n",
      "\n",
      "To accept the future behavior, pass 'sort=False'.\n",
      "\n",
      "To retain the current behavior and silence the warning, pass 'sort=True'.\n",
      "\n",
      "  result = pd.concat(result, axis=1, keys=alphas)\n"
     ]
    },
    {
     "name": "stdout",
     "output_type": "stream",
     "text": [
      "2007-09-24 插入成功\n",
      "删除成功\n"
     ]
    },
    {
     "name": "stderr",
     "output_type": "stream",
     "text": [
      "/opt/conda/lib/python3.6/site-packages/jqlib/alpha101.py:3488: FutureWarning: Sorting because non-concatenation axis is not aligned. A future version\n",
      "of pandas will change to not sort by default.\n",
      "\n",
      "To accept the future behavior, pass 'sort=False'.\n",
      "\n",
      "To retain the current behavior and silence the warning, pass 'sort=True'.\n",
      "\n",
      "  result = pd.concat(result, axis=1, keys=alphas)\n"
     ]
    },
    {
     "name": "stdout",
     "output_type": "stream",
     "text": [
      "2007-09-25 插入成功\n",
      "删除成功\n"
     ]
    },
    {
     "name": "stderr",
     "output_type": "stream",
     "text": [
      "/opt/conda/lib/python3.6/site-packages/jqlib/alpha101.py:3488: FutureWarning: Sorting because non-concatenation axis is not aligned. A future version\n",
      "of pandas will change to not sort by default.\n",
      "\n",
      "To accept the future behavior, pass 'sort=False'.\n",
      "\n",
      "To retain the current behavior and silence the warning, pass 'sort=True'.\n",
      "\n",
      "  result = pd.concat(result, axis=1, keys=alphas)\n"
     ]
    },
    {
     "name": "stdout",
     "output_type": "stream",
     "text": [
      "2007-09-26 插入成功\n",
      "删除成功\n"
     ]
    },
    {
     "name": "stderr",
     "output_type": "stream",
     "text": [
      "/opt/conda/lib/python3.6/site-packages/jqlib/alpha101.py:3488: FutureWarning: Sorting because non-concatenation axis is not aligned. A future version\n",
      "of pandas will change to not sort by default.\n",
      "\n",
      "To accept the future behavior, pass 'sort=False'.\n",
      "\n",
      "To retain the current behavior and silence the warning, pass 'sort=True'.\n",
      "\n",
      "  result = pd.concat(result, axis=1, keys=alphas)\n"
     ]
    },
    {
     "name": "stdout",
     "output_type": "stream",
     "text": [
      "2007-09-27 插入成功\n",
      "删除成功\n"
     ]
    },
    {
     "name": "stderr",
     "output_type": "stream",
     "text": [
      "/opt/conda/lib/python3.6/site-packages/jqlib/alpha101.py:3488: FutureWarning: Sorting because non-concatenation axis is not aligned. A future version\n",
      "of pandas will change to not sort by default.\n",
      "\n",
      "To accept the future behavior, pass 'sort=False'.\n",
      "\n",
      "To retain the current behavior and silence the warning, pass 'sort=True'.\n",
      "\n",
      "  result = pd.concat(result, axis=1, keys=alphas)\n"
     ]
    },
    {
     "name": "stdout",
     "output_type": "stream",
     "text": [
      "2007-09-28 插入成功\n",
      "2007-09-29 非交易日:插入成功\n",
      "2007-09-30 非交易日:插入成功\n",
      "2007-10-01 非交易日:插入成功\n",
      "2007-10-02 非交易日:插入成功\n",
      "2007-10-03 非交易日:插入成功\n",
      "2007-10-04 非交易日:插入成功\n",
      "2007-10-05 非交易日:插入成功\n",
      "2007-10-06 非交易日:插入成功\n",
      "2007-10-07 非交易日:插入成功\n",
      "删除成功\n"
     ]
    },
    {
     "name": "stderr",
     "output_type": "stream",
     "text": [
      "/opt/conda/lib/python3.6/site-packages/jqlib/alpha101.py:3488: FutureWarning: Sorting because non-concatenation axis is not aligned. A future version\n",
      "of pandas will change to not sort by default.\n",
      "\n",
      "To accept the future behavior, pass 'sort=False'.\n",
      "\n",
      "To retain the current behavior and silence the warning, pass 'sort=True'.\n",
      "\n",
      "  result = pd.concat(result, axis=1, keys=alphas)\n"
     ]
    },
    {
     "name": "stdout",
     "output_type": "stream",
     "text": [
      "2007-10-08 插入成功\n",
      "删除成功\n"
     ]
    },
    {
     "name": "stderr",
     "output_type": "stream",
     "text": [
      "/opt/conda/lib/python3.6/site-packages/jqlib/alpha101.py:3488: FutureWarning: Sorting because non-concatenation axis is not aligned. A future version\n",
      "of pandas will change to not sort by default.\n",
      "\n",
      "To accept the future behavior, pass 'sort=False'.\n",
      "\n",
      "To retain the current behavior and silence the warning, pass 'sort=True'.\n",
      "\n",
      "  result = pd.concat(result, axis=1, keys=alphas)\n"
     ]
    },
    {
     "name": "stdout",
     "output_type": "stream",
     "text": [
      "2007-10-09 插入成功\n",
      "删除成功\n"
     ]
    },
    {
     "name": "stderr",
     "output_type": "stream",
     "text": [
      "/opt/conda/lib/python3.6/site-packages/jqlib/alpha101.py:3488: FutureWarning: Sorting because non-concatenation axis is not aligned. A future version\n",
      "of pandas will change to not sort by default.\n",
      "\n",
      "To accept the future behavior, pass 'sort=False'.\n",
      "\n",
      "To retain the current behavior and silence the warning, pass 'sort=True'.\n",
      "\n",
      "  result = pd.concat(result, axis=1, keys=alphas)\n"
     ]
    },
    {
     "name": "stdout",
     "output_type": "stream",
     "text": [
      "2007-10-10 插入成功\n",
      "删除成功\n"
     ]
    },
    {
     "name": "stderr",
     "output_type": "stream",
     "text": [
      "/opt/conda/lib/python3.6/site-packages/jqlib/alpha101.py:3488: FutureWarning: Sorting because non-concatenation axis is not aligned. A future version\n",
      "of pandas will change to not sort by default.\n",
      "\n",
      "To accept the future behavior, pass 'sort=False'.\n",
      "\n",
      "To retain the current behavior and silence the warning, pass 'sort=True'.\n",
      "\n",
      "  result = pd.concat(result, axis=1, keys=alphas)\n"
     ]
    },
    {
     "name": "stdout",
     "output_type": "stream",
     "text": [
      "2007-10-11 插入成功\n",
      "删除成功\n"
     ]
    },
    {
     "name": "stderr",
     "output_type": "stream",
     "text": [
      "/opt/conda/lib/python3.6/site-packages/jqlib/alpha101.py:3488: FutureWarning: Sorting because non-concatenation axis is not aligned. A future version\n",
      "of pandas will change to not sort by default.\n",
      "\n",
      "To accept the future behavior, pass 'sort=False'.\n",
      "\n",
      "To retain the current behavior and silence the warning, pass 'sort=True'.\n",
      "\n",
      "  result = pd.concat(result, axis=1, keys=alphas)\n"
     ]
    },
    {
     "name": "stdout",
     "output_type": "stream",
     "text": [
      "2007-10-12 插入成功\n",
      "2007-10-13 非交易日:插入成功\n",
      "2007-10-14 非交易日:插入成功\n",
      "删除成功\n"
     ]
    }
   ],
   "source": [
    "#获取指定日期指数代码下股票列表\n",
    "begin_date = datetime.date(2007,7,1)\n",
    "end_date = datetime.date(2009,12,31)\n",
    "delta = datetime.timedelta(days=1)\n",
    "\n",
    "\n",
    "while begin_date <= end_date: \n",
    "    sel = \"select trade_date, stock_code, open_price, close_price, high_price, low_price, volume, money, avg, pre_close, returns  from trade_his where update_flg = \\\"N\\\" and trade_date = \\\"\" + str(begin_date) + \"\\\"\"\n",
    "    df = get_df_from_db(sel)\n",
    "    if len(df) > 0 :\n",
    "#         stockList = df['stock_code'].tolist()   \n",
    "#         df = getAlpha(begin_date,stockList,df)\n",
    "#         res = update_data(df)\n",
    "        \n",
    "        del_df = df[['trade_date','stock_code']]\n",
    "        delete_data(del_df)\n",
    "        stockList = df['stock_code'].tolist()   \n",
    "        df = getAlpha(begin_date,stockList,df)\n",
    "        res = insert_datares(df)\n",
    "        if not res:\n",
    "            print(begin_date,\"插入失败\")\n",
    "            break\n",
    "        if res:\n",
    "            print(begin_date,\"插入成功\")\n",
    "    else:\n",
    "        print(begin_date,\"非交易日:插入成功\")\n",
    "    begin_date += delta"
   ]
  },
  {
   "cell_type": "code",
   "execution_count": null,
   "metadata": {},
   "outputs": [],
   "source": []
  }
 ],
 "metadata": {
  "kernelspec": {
   "display_name": "Python 3",
   "language": "python",
   "name": "python3"
  },
  "language_info": {
   "codemirror_mode": {
    "name": "ipython",
    "version": 3
   },
   "file_extension": ".py",
   "mimetype": "text/x-python",
   "name": "python",
   "nbconvert_exporter": "python",
   "pygments_lexer": "ipython3",
   "version": "3.7.9"
  },
  "toc": {
   "base_numbering": 1,
   "nav_menu": {},
   "number_sections": false,
   "sideBar": true,
   "skip_h1_title": false,
   "title_cell": "MarkDown菜单",
   "title_sidebar": "Contents",
   "toc_cell": false,
   "toc_position": {},
   "toc_section_display": true,
   "toc_window_display": false
  }
 },
 "nbformat": 4,
 "nbformat_minor": 2
}
