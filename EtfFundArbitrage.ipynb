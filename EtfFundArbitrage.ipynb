{
 "cells": [
  {
   "cell_type": "markdown",
   "id": "palestinian-speaker",
   "metadata": {},
   "source": [
    "## 场内基金套利策略\n",
    "### 简介：通过对场内LOF基金进行监测，发现其是否与场外净值有较大偏差来进行套利\n",
    "### 操作方式：\n",
    "1.查看场外LOF基金前一日净值与当日实时估算净值  \n",
    "2.查看场内该基金的实时交易价格  \n",
    "3.判断实时交易价格是否偏离实时估算净值大于100bps  \n",
    "4.判断交易量是否较前几日有明显放大  \n",
    "5.在首先满足步骤3的条件下，发送信号。\n",
    "\n",
    "### 一期计划：\n",
    "实现信号功能：能够较为准确的发现套利机会，程序能够在交易时间段内持续监控  \n",
    "可改进项：通过机器学习多分类来解决识别误差问题\n",
    "\n",
    "### 二期计划：\n",
    "实现信息发送功能：发送至微信或者邮件中\n",
    "\n",
    "### 三期计划：\n",
    "实现自动化交易功能。\n",
    "\n"
   ]
  },
  {
   "cell_type": "code",
   "execution_count": 1,
   "id": "northern-wound",
   "metadata": {
    "scrolled": true
   },
   "outputs": [],
   "source": [
    "###1.连接各类数据接口"
   ]
  },
  {
   "cell_type": "code",
   "execution_count": 10,
   "id": "flexible-rabbit",
   "metadata": {
    "scrolled": true
   },
   "outputs": [],
   "source": [
    "import math\n",
    "import requests,json,time\n",
    "import easyquotation as eq\n",
    "import numpy as np\n",
    "import pandas as pd\n",
    "import sqlalchemy as sql"
   ]
  },
  {
   "cell_type": "code",
   "execution_count": 11,
   "id": "medical-tractor",
   "metadata": {},
   "outputs": [],
   "source": [
    "#显示所有列\n",
    "pd.set_option('display.max_columns', None)\n",
    "\n",
    "#显示所有行\n",
    "pd.set_option('display.max_rows', None)"
   ]
  },
  {
   "cell_type": "code",
   "execution_count": 12,
   "id": "political-remainder",
   "metadata": {
    "scrolled": true
   },
   "outputs": [],
   "source": [
    "class fundFeatures():\n",
    "    def __init__(self, code, amplitude,turnover,*args):\n",
    "        self.code = code\n",
    "        self.amplitude = amplitude\n",
    "        self.turnover = turnover\n",
    "        self.esval,self.gain,self.pre_price = self.get_estimated_netval()\n",
    "        self.amplitude,self.turnover,self.now,self.bid1,self.bid1_volume,self.bid2,self.bid2_volume,self.ask1,self.ask1_volume,self.ask2,self.ask2_volume=self.get_now_data()\n",
    "        \n",
    "    def change(self):\n",
    "        self.esval,self.gain,self.pre_price = self.get_estimated_netval()\n",
    "        self.amplitude,self.turnover,self.now,self.bid1,self.bid1_volume,self.bid2,self.bid2_volume,self.ask1,self.ask1_volume,self.ask2,self.ask2_volume=self.get_now_data()\n",
    "        \n",
    "    def get_estimated_netval(self):\n",
    "        t = time.time()\n",
    "        timestamp = round(t * 1000)\n",
    "        Headers = {'content-type':'application/json','User-Agent': 'Apache-HttpClient/4.5.2 (Java/1.8.0_102)'}\n",
    "        TTurl = \"http://fundgz.1234567.com.cn/js/\" + str(self.code) +  \".js?rt=\" + str(timestamp)\n",
    "        r = requests.get(TTurl, headers=Headers)\n",
    "        GetMsg = r.text\n",
    "        if \"fundcode\" in GetMsg:\n",
    "            estimated_netval = GetMsg.split(\",\")[4].split(\":\")[1].replace('\"','')\n",
    "            gain = GetMsg.split(\",\")[5].split(\":\")[1].replace('\"','')\n",
    "            pre_price=  GetMsg.split(\",\")[3].split(\":\")[1].replace('\"','')\n",
    "            return float(estimated_netval),float(gain),float(pre_price)\n",
    "        else:\n",
    "            return 0,0,0\n",
    "    def get_now_data(self):\n",
    "        code = str(self.code)\n",
    "        quotation =eq.use('tencent')\n",
    "        fund_dict =quotation.real(code)\n",
    "        return fund_dict[code]['振幅'],fund_dict[code]['成交额(万)'],fund_dict[code]['now'],fund_dict[code]['bid1'],fund_dict[code]['bid1_volume'],fund_dict[code]['bid2'],fund_dict[code]['bid2_volume'],fund_dict[code]['ask1'],fund_dict[code]['ask1_volume'],fund_dict[code]['ask2'],fund_dict[code]['ask2_volume']\n",
    "        \n",
    "    def as_dict(self):\n",
    "        return {'code': self.code, 'amplitude': self.amplitude, 'turnover': self.turnover,'gain': self.gain,'pre_price': self.pre_price,\n",
    "               'es_value': self.esval,'now': self.now,'bid1': self.bid1,'bid1_volume': self.bid1_volume,'bid2': self.bid2,'bid2_volume': self.bid2_volume,'ask1': self.ask1,'ask1_volume': self.ask1_volume,'ask2': self.ask2,'ask2_volume':self.ask2_volume}"
   ]
  },
  {
   "cell_type": "code",
   "execution_count": 13,
   "id": "loaded-prophet",
   "metadata": {
    "scrolled": true
   },
   "outputs": [],
   "source": [
    "def initFunds():\n",
    "    #读取fof基金列表\n",
    "    df=pd.read_csv('/Users/zhangming/Work/invest/etf.csv')\n",
    "    tmp_funds_list = df['main_code'].to_list()\n",
    "    str_funds_list= [str(x) for x in tmp_funds_list]\n",
    "    #对基金进行选择操作，逻辑成交额大于10万，并且振幅大于3个点\n",
    "    quotation = eq.use('tencent') # 新浪 ['sina'] 腾讯 ['tencent', 'qq']\n",
    "    funds_dict = quotation.stocks(str_funds_list)\n",
    "    valid_funds = []\n",
    "    #初始化基金数据，获取实时涨跌，振幅，并转为pd格式\n",
    "    for key,value in funds_dict.items():\n",
    "        obj = fundFeatures(key,value['振幅'],value['成交额(万)'])\n",
    "        valid_funds.append(obj)\n",
    "    return valid_funds\n",
    "#valid_funds = sorted(valid_funds, key=lambda valid_fund: valid_fund.amplitude,reverse=True)"
   ]
  },
  {
   "cell_type": "code",
   "execution_count": 14,
   "id": "plain-india",
   "metadata": {},
   "outputs": [],
   "source": [
    "#更新基金实时变动\n",
    "def get_now_funds(valid_funds):\n",
    "    for item in valid_funds:\n",
    "        item.change()\n",
    "    real_fund = pd.DataFrame([x.as_dict() for x in valid_funds])\n",
    "    real_fund = real_fund.drop(real_fund[real_fund.es_value == 0 ].index)\n",
    "    real_fund=real_fund[(real_fund['turnover'] > 0 )|(real_fund['bid1']>0)]\n",
    "    real_fund['change_pct'] = (real_fund['now']-real_fund['es_value'])/real_fund['es_value'] *100\n",
    "    return real_fund\n",
    "\n",
    "    "
   ]
  },
  {
   "cell_type": "code",
   "execution_count": 15,
   "id": "christian-police",
   "metadata": {},
   "outputs": [
    {
     "ename": "AttributeError",
     "evalue": "module 'requests' has no attribute 'session'",
     "output_type": "error",
     "traceback": [
      "\u001b[0;31m---------------------------------------------------------------------------\u001b[0m",
      "\u001b[0;31mAttributeError\u001b[0m                            Traceback (most recent call last)",
      "\u001b[0;32m<ipython-input-15-366a14494fc5>\u001b[0m in \u001b[0;36m<module>\u001b[0;34m\u001b[0m\n\u001b[0;32m----> 1\u001b[0;31m \u001b[0mvalid_funds\u001b[0m \u001b[0;34m=\u001b[0m \u001b[0minitFunds\u001b[0m\u001b[0;34m(\u001b[0m\u001b[0;34m)\u001b[0m\u001b[0;34m\u001b[0m\u001b[0;34m\u001b[0m\u001b[0m\n\u001b[0m\u001b[1;32m      2\u001b[0m \u001b[0;34m\u001b[0m\u001b[0m\n\u001b[1;32m      3\u001b[0m \u001b[0;31m#167508,161912,160526\u001b[0m\u001b[0;34m\u001b[0m\u001b[0;34m\u001b[0m\u001b[0;34m\u001b[0m\u001b[0m\n",
      "\u001b[0;32m<ipython-input-13-a9988c4e2e8d>\u001b[0m in \u001b[0;36minitFunds\u001b[0;34m()\u001b[0m\n\u001b[1;32m      5\u001b[0m     \u001b[0mstr_funds_list\u001b[0m\u001b[0;34m=\u001b[0m \u001b[0;34m[\u001b[0m\u001b[0mstr\u001b[0m\u001b[0;34m(\u001b[0m\u001b[0mx\u001b[0m\u001b[0;34m)\u001b[0m \u001b[0;32mfor\u001b[0m \u001b[0mx\u001b[0m \u001b[0;32min\u001b[0m \u001b[0mtmp_funds_list\u001b[0m\u001b[0;34m]\u001b[0m\u001b[0;34m\u001b[0m\u001b[0;34m\u001b[0m\u001b[0m\n\u001b[1;32m      6\u001b[0m     \u001b[0;31m#对基金进行选择操作，逻辑成交额大于10万，并且振幅大于3个点\u001b[0m\u001b[0;34m\u001b[0m\u001b[0;34m\u001b[0m\u001b[0;34m\u001b[0m\u001b[0m\n\u001b[0;32m----> 7\u001b[0;31m     \u001b[0mquotation\u001b[0m \u001b[0;34m=\u001b[0m \u001b[0meq\u001b[0m\u001b[0;34m.\u001b[0m\u001b[0muse\u001b[0m\u001b[0;34m(\u001b[0m\u001b[0;34m'tencent'\u001b[0m\u001b[0;34m)\u001b[0m \u001b[0;31m# 新浪 ['sina'] 腾讯 ['tencent', 'qq']\u001b[0m\u001b[0;34m\u001b[0m\u001b[0;34m\u001b[0m\u001b[0m\n\u001b[0m\u001b[1;32m      8\u001b[0m     \u001b[0mfunds_dict\u001b[0m \u001b[0;34m=\u001b[0m \u001b[0mquotation\u001b[0m\u001b[0;34m.\u001b[0m\u001b[0mstocks\u001b[0m\u001b[0;34m(\u001b[0m\u001b[0mstr_funds_list\u001b[0m\u001b[0;34m)\u001b[0m\u001b[0;34m\u001b[0m\u001b[0;34m\u001b[0m\u001b[0m\n\u001b[1;32m      9\u001b[0m     \u001b[0mvalid_funds\u001b[0m \u001b[0;34m=\u001b[0m \u001b[0;34m[\u001b[0m\u001b[0;34m]\u001b[0m\u001b[0;34m\u001b[0m\u001b[0;34m\u001b[0m\u001b[0m\n",
      "\u001b[0;32m~/anaconda3/envs/pytorch_env/lib/python3.7/site-packages/easyquotation/api.py\u001b[0m in \u001b[0;36muse\u001b[0;34m(source)\u001b[0m\n\u001b[1;32m     11\u001b[0m         \u001b[0;32mreturn\u001b[0m \u001b[0mjsl\u001b[0m\u001b[0;34m.\u001b[0m\u001b[0mJsl\u001b[0m\u001b[0;34m(\u001b[0m\u001b[0;34m)\u001b[0m\u001b[0;34m\u001b[0m\u001b[0;34m\u001b[0m\u001b[0m\n\u001b[1;32m     12\u001b[0m     \u001b[0;32mif\u001b[0m \u001b[0msource\u001b[0m \u001b[0;32min\u001b[0m \u001b[0;34m[\u001b[0m\u001b[0;34m\"qq\"\u001b[0m\u001b[0;34m,\u001b[0m \u001b[0;34m\"tencent\"\u001b[0m\u001b[0;34m]\u001b[0m\u001b[0;34m:\u001b[0m\u001b[0;34m\u001b[0m\u001b[0;34m\u001b[0m\u001b[0m\n\u001b[0;32m---> 13\u001b[0;31m         \u001b[0;32mreturn\u001b[0m \u001b[0mtencent\u001b[0m\u001b[0;34m.\u001b[0m\u001b[0mTencent\u001b[0m\u001b[0;34m(\u001b[0m\u001b[0;34m)\u001b[0m\u001b[0;34m\u001b[0m\u001b[0;34m\u001b[0m\u001b[0m\n\u001b[0m\u001b[1;32m     14\u001b[0m     \u001b[0;32mif\u001b[0m \u001b[0msource\u001b[0m \u001b[0;32min\u001b[0m \u001b[0;34m[\u001b[0m\u001b[0;34m\"boc\"\u001b[0m\u001b[0;34m]\u001b[0m\u001b[0;34m:\u001b[0m\u001b[0;34m\u001b[0m\u001b[0;34m\u001b[0m\u001b[0m\n\u001b[1;32m     15\u001b[0m         \u001b[0;32mreturn\u001b[0m \u001b[0mboc\u001b[0m\u001b[0;34m.\u001b[0m\u001b[0mBoc\u001b[0m\u001b[0;34m(\u001b[0m\u001b[0;34m)\u001b[0m\u001b[0;34m\u001b[0m\u001b[0;34m\u001b[0m\u001b[0m\n",
      "\u001b[0;32m~/anaconda3/envs/pytorch_env/lib/python3.7/site-packages/easyquotation/basequotation.py\u001b[0m in \u001b[0;36m__init__\u001b[0;34m(self)\u001b[0m\n\u001b[1;32m     24\u001b[0m \u001b[0;34m\u001b[0m\u001b[0m\n\u001b[1;32m     25\u001b[0m     \u001b[0;32mdef\u001b[0m \u001b[0m__init__\u001b[0m\u001b[0;34m(\u001b[0m\u001b[0mself\u001b[0m\u001b[0;34m)\u001b[0m\u001b[0;34m:\u001b[0m\u001b[0;34m\u001b[0m\u001b[0;34m\u001b[0m\u001b[0m\n\u001b[0;32m---> 26\u001b[0;31m         \u001b[0mself\u001b[0m\u001b[0;34m.\u001b[0m\u001b[0m_session\u001b[0m \u001b[0;34m=\u001b[0m \u001b[0mrequests\u001b[0m\u001b[0;34m.\u001b[0m\u001b[0msession\u001b[0m\u001b[0;34m(\u001b[0m\u001b[0;34m)\u001b[0m\u001b[0;34m\u001b[0m\u001b[0;34m\u001b[0m\u001b[0m\n\u001b[0m\u001b[1;32m     27\u001b[0m         \u001b[0mstock_codes\u001b[0m \u001b[0;34m=\u001b[0m \u001b[0mself\u001b[0m\u001b[0;34m.\u001b[0m\u001b[0mload_stock_codes\u001b[0m\u001b[0;34m(\u001b[0m\u001b[0;34m)\u001b[0m\u001b[0;34m\u001b[0m\u001b[0;34m\u001b[0m\u001b[0m\n\u001b[1;32m     28\u001b[0m         \u001b[0mself\u001b[0m\u001b[0;34m.\u001b[0m\u001b[0mstock_list\u001b[0m \u001b[0;34m=\u001b[0m \u001b[0mself\u001b[0m\u001b[0;34m.\u001b[0m\u001b[0mgen_stock_list\u001b[0m\u001b[0;34m(\u001b[0m\u001b[0mstock_codes\u001b[0m\u001b[0;34m)\u001b[0m\u001b[0;34m\u001b[0m\u001b[0;34m\u001b[0m\u001b[0m\n",
      "\u001b[0;31mAttributeError\u001b[0m: module 'requests' has no attribute 'session'"
     ]
    }
   ],
   "source": [
    "valid_funds = initFunds()\n",
    "\n",
    "#167508,161912,160526"
   ]
  },
  {
   "cell_type": "code",
   "execution_count": 9,
   "id": "adverse-front",
   "metadata": {
    "scrolled": false
   },
   "outputs": [
    {
     "ename": "NameError",
     "evalue": "name 'valid_funds' is not defined",
     "output_type": "error",
     "traceback": [
      "\u001b[0;31m---------------------------------------------------------------------------\u001b[0m",
      "\u001b[0;31mNameError\u001b[0m                                 Traceback (most recent call last)",
      "\u001b[0;32m<ipython-input-9-8ff2f803fbcb>\u001b[0m in \u001b[0;36m<module>\u001b[0;34m\u001b[0m\n\u001b[1;32m      1\u001b[0m \u001b[0;31m#获得实时基金变动\u001b[0m\u001b[0;34m\u001b[0m\u001b[0;34m\u001b[0m\u001b[0;34m\u001b[0m\u001b[0m\n\u001b[0;32m----> 2\u001b[0;31m \u001b[0mres\u001b[0m \u001b[0;34m=\u001b[0m \u001b[0mget_now_funds\u001b[0m\u001b[0;34m(\u001b[0m\u001b[0mvalid_funds\u001b[0m\u001b[0;34m)\u001b[0m\u001b[0;34m\u001b[0m\u001b[0;34m\u001b[0m\u001b[0m\n\u001b[0m\u001b[1;32m      3\u001b[0m \u001b[0mres\u001b[0m\u001b[0;34m[\u001b[0m\u001b[0;34m(\u001b[0m\u001b[0mres\u001b[0m\u001b[0;34m[\u001b[0m\u001b[0;34m'turnover'\u001b[0m\u001b[0;34m]\u001b[0m\u001b[0;34m>=\u001b[0m\u001b[0;36m50000\u001b[0m\u001b[0;34m)\u001b[0m\u001b[0;34m&\u001b[0m\u001b[0;34m(\u001b[0m\u001b[0mres\u001b[0m\u001b[0;34m[\u001b[0m\u001b[0;34m'turnover'\u001b[0m\u001b[0;34m]\u001b[0m\u001b[0;34m<=\u001b[0m\u001b[0;36m5000000\u001b[0m\u001b[0;34m)\u001b[0m\u001b[0;34m]\u001b[0m\u001b[0;34m.\u001b[0m\u001b[0msort_values\u001b[0m\u001b[0;34m(\u001b[0m\u001b[0mby\u001b[0m\u001b[0;34m=\u001b[0m\u001b[0;34m[\u001b[0m\u001b[0;34m'amplitude'\u001b[0m\u001b[0;34m,\u001b[0m\u001b[0;34m'change_pct'\u001b[0m\u001b[0;34m]\u001b[0m\u001b[0;34m,\u001b[0m\u001b[0mascending\u001b[0m\u001b[0;34m=\u001b[0m\u001b[0;34m[\u001b[0m\u001b[0;32mFalse\u001b[0m\u001b[0;34m,\u001b[0m\u001b[0;32mFalse\u001b[0m\u001b[0;34m]\u001b[0m\u001b[0;34m)\u001b[0m\u001b[0;34m\u001b[0m\u001b[0;34m\u001b[0m\u001b[0m\n",
      "\u001b[0;31mNameError\u001b[0m: name 'valid_funds' is not defined"
     ]
    }
   ],
   "source": [
    "#获得实时基金变动\n",
    "res = get_now_funds(valid_funds)\n",
    "res[(res['turnover']>=50000)&(res['turnover']<=5000000)].sort_values(by=['amplitude','change_pct'],ascending=[False,False])"
   ]
  },
  {
   "cell_type": "code",
   "execution_count": 35,
   "id": "separated-wright",
   "metadata": {},
   "outputs": [],
   "source": [
    "now_date = time.strftime('%Y-%m-%d',time.localtime())\n",
    "res['date']=now_date\n",
    "file_path='/Users/zhangming/Work/invest/'+now_date+'.csv'\n",
    "res.to_csv(file_path)"
   ]
  },
  {
   "cell_type": "code",
   "execution_count": 247,
   "id": "piano-thread",
   "metadata": {},
   "outputs": [],
   "source": [
    "if __name__ == '__main__':\n",
    "    #初始化基金\n",
    "    valid_funds = initFunds()\n",
    "    \n",
    "    #获得实时基金变动\n",
    "    res = get_now_funds(valid_funds)\n",
    "    res\n"
   ]
  },
  {
   "cell_type": "code",
   "execution_count": 1,
   "id": "becoming-canada",
   "metadata": {},
   "outputs": [
    {
     "ename": "NameError",
     "evalue": "name 'get_now_funds' is not defined",
     "output_type": "error",
     "traceback": [
      "\u001b[0;31m---------------------------------------------------------------------------\u001b[0m",
      "\u001b[0;31mNameError\u001b[0m                                 Traceback (most recent call last)",
      "\u001b[0;32m<ipython-input-1-50c9509fb264>\u001b[0m in \u001b[0;36m<module>\u001b[0;34m\u001b[0m\n\u001b[0;32m----> 1\u001b[0;31m \u001b[0mres\u001b[0m \u001b[0;34m=\u001b[0m \u001b[0mget_now_funds\u001b[0m\u001b[0;34m(\u001b[0m\u001b[0mvalid_funds\u001b[0m\u001b[0;34m)\u001b[0m\u001b[0;34m\u001b[0m\u001b[0;34m\u001b[0m\u001b[0m\n\u001b[0m\u001b[1;32m      2\u001b[0m \u001b[0mres\u001b[0m\u001b[0;34m\u001b[0m\u001b[0;34m\u001b[0m\u001b[0m\n",
      "\u001b[0;31mNameError\u001b[0m: name 'get_now_funds' is not defined"
     ]
    }
   ],
   "source": [
    "res = get_now_funds(valid_funds)\n",
    "res"
   ]
  },
  {
   "cell_type": "code",
   "execution_count": null,
   "id": "double-obligation",
   "metadata": {
    "scrolled": true
   },
   "outputs": [],
   "source": [
    "for item in valid_funds:\n",
    "    item.change()\n",
    "real_fund = pd.DataFrame([x.as_dict() for x in valid_funds])\n",
    "real_fund = real_fund.sort_values(by=['amplitude','turnover'],ascending=[False,False])\n",
    "real_fund = real_fund.drop(real_fund[real_fund.es_value == 0 ].index)\n",
    "real_fund=real_fund[(real_fund['turnover'] > 0 )|(real_fund['bid1']>0)]\n",
    "real_fund.reset_index(drop=True, inplace=True)\n",
    "real_fund['change_pct'] = (real_fund['now']-real_fund['es_value'])/real_fund['es_value'] *100\n",
    "\n"
   ]
  },
  {
   "cell_type": "code",
   "execution_count": 54,
   "id": "combined-turning",
   "metadata": {
    "scrolled": true
   },
   "outputs": [
    {
     "data": {
      "text/plain": [
       "{'161030': {'name': '体育',\n",
       "  'code': '161030',\n",
       "  'now': 1.038,\n",
       "  'close': 1.045,\n",
       "  'open': 0.941,\n",
       "  'volume': 933200.0,\n",
       "  'bid_volume': 330100,\n",
       "  'ask_volume': 603100.0,\n",
       "  'bid1': 1.038,\n",
       "  'bid1_volume': 38000,\n",
       "  'bid2': 1.035,\n",
       "  'bid2_volume': 5000,\n",
       "  'bid3': 1.014,\n",
       "  'bid3_volume': 10000,\n",
       "  'bid4': 0.964,\n",
       "  'bid4_volume': 3700,\n",
       "  'bid5': 0.963,\n",
       "  'bid5_volume': 11000,\n",
       "  'ask1': 1.04,\n",
       "  'ask1_volume': 10100,\n",
       "  'ask2': 1.042,\n",
       "  'ask2_volume': 105200,\n",
       "  'ask3': 1.045,\n",
       "  'ask3_volume': 18600,\n",
       "  'ask4': 1.08,\n",
       "  'ask4_volume': 10100,\n",
       "  'ask5': 1.09,\n",
       "  'ask5_volume': 1000,\n",
       "  '最近逐笔成交': '',\n",
       "  'datetime': datetime.datetime(2021, 3, 5, 16, 15, 3),\n",
       "  '涨跌': -0.007,\n",
       "  '涨跌(%)': -0.67,\n",
       "  'high': 1.042,\n",
       "  'low': 0.941,\n",
       "  '价格/成交量(手)/成交额': '1.038/9332/897730',\n",
       "  '成交量(手)': 933200,\n",
       "  '成交额(万)': 900000.0,\n",
       "  'turnover': None,\n",
       "  'PE': None,\n",
       "  'unknown': '',\n",
       "  'high_2': 1.042,\n",
       "  'low_2': 0.941,\n",
       "  '振幅': 9.67,\n",
       "  '流通市值': None,\n",
       "  '总市值': None,\n",
       "  'PB': 0.0,\n",
       "  '涨停价': 1.15,\n",
       "  '跌停价': 0.941,\n",
       "  '量比': 1.93,\n",
       "  '委差': -773.0,\n",
       "  '均价': 0.964,\n",
       "  '市盈(动)': None,\n",
       "  '市盈(静)': None},\n",
       " '160516': {'name': '券商基金',\n",
       "  'code': '160516',\n",
       "  'now': 1.0,\n",
       "  'close': 1.0,\n",
       "  'open': 0.0,\n",
       "  'volume': 0.0,\n",
       "  'bid_volume': 0,\n",
       "  'ask_volume': 0.0,\n",
       "  'bid1': 0.0,\n",
       "  'bid1_volume': 0,\n",
       "  'bid2': 0.0,\n",
       "  'bid2_volume': 0,\n",
       "  'bid3': 0.0,\n",
       "  'bid3_volume': 0,\n",
       "  'bid4': 0.0,\n",
       "  'bid4_volume': 0,\n",
       "  'bid5': 0.0,\n",
       "  'bid5_volume': 0,\n",
       "  'ask1': 0.0,\n",
       "  'ask1_volume': 0,\n",
       "  'ask2': 0.0,\n",
       "  'ask2_volume': 0,\n",
       "  'ask3': 0.0,\n",
       "  'ask3_volume': 0,\n",
       "  'ask4': 0.0,\n",
       "  'ask4_volume': 0,\n",
       "  'ask5': 0.0,\n",
       "  'ask5_volume': 0,\n",
       "  '最近逐笔成交': '',\n",
       "  'datetime': datetime.datetime(2021, 3, 5, 9, 10),\n",
       "  '涨跌': 0.0,\n",
       "  '涨跌(%)': 0.0,\n",
       "  'high': 0.0,\n",
       "  'low': 0.0,\n",
       "  '价格/成交量(手)/成交额': '1.000/0/0',\n",
       "  '成交量(手)': 0,\n",
       "  '成交额(万)': 0.0,\n",
       "  'turnover': None,\n",
       "  'PE': None,\n",
       "  'unknown': '',\n",
       "  'high_2': 0.0,\n",
       "  'low_2': 0.0,\n",
       "  '振幅': 0.0,\n",
       "  '流通市值': None,\n",
       "  '总市值': None,\n",
       "  'PB': 0.0,\n",
       "  '涨停价': -1.0,\n",
       "  '跌停价': -1.0,\n",
       "  '量比': 0.0,\n",
       "  '委差': 0.0,\n",
       "  '均价': 1.0,\n",
       "  '市盈(动)': None,\n",
       "  '市盈(静)': None}}"
      ]
     },
     "execution_count": 54,
     "metadata": {},
     "output_type": "execute_result"
    }
   ],
   "source": [
    "quotation = eq.use('tencent') # 新浪 ['sina'] 腾讯 ['tencent', 'qq']\n",
    "quotation.stocks(['161030', '160516'])\n",
    "#选相应波动基金\n",
    "for \n",
    "#tmp_dict = quotation.market_snapshot(prefix=True) # prefix 参数指定返回的行情字典中的股票代码 key 是否带 sz/sh 前缀"
   ]
  },
  {
   "cell_type": "code",
   "execution_count": null,
   "id": "established-accordance",
   "metadata": {
    "scrolled": true
   },
   "outputs": [],
   "source": [
    "\n",
    "# def GetFundData(fundId,GetTimestamp):\n",
    "#     Headers = {'content-type':'application/json','User-Agent': 'Apache-HttpClient/4.5.2 (Java/1.8.0_102)'}\n",
    "#     TTurl = \"http://fundgz.1234567.com.cn/js/\" + str(fundId) +  \".js?rt=\" + str(GetTimestamp)\n",
    "#     r = requests.get(TTurl, headers=Headers)\n",
    "#     GetMsg = r.text\n",
    "#     print(GetMsg)\n",
    "#     if \"fundcode\" in GetMsg:\n",
    "#         FundID = GetMsg.split(\",\")[0].split(\":\")[1]\n",
    "#         FundName = GetMsg.split(\",\")[1].split(\":\")[1]\n",
    "        \n",
    "#         Gain = GetMsg.split(\",\")[5].split(\":\")[1]\n",
    "#         # print(GetMsg.split(\",\")[6].split(\"}\")[0])\n",
    "#         currentTime = GetMsg.split(\",\")[6].split(\"}\")[0].split(\"\\\"gztime\\\":\")[1]\n",
    "#         # GetData = \"基金名称:\"+ FundName + \"ID\" + FundID + \"涨跌幅:\" + Gain + \"当前时间:\" + currentTime\n",
    "#         # GetData =  FundName + \" \" + FundID + \" \" + Gain\n",
    "#         # GetData = \"基金名称:\"+ FundName + \"涨跌幅:\" + Gain + \"当前时间:\" + currentTime\n",
    "#         GetData = \"基金名称:\"+ FundName + \" \"+ \"涨跌幅:\" + Gain + \" \"+ \"当前时间:\" + currentTime\n",
    "#     return GetData\n",
    "# #获取时间戳\n",
    "# def GetTime():\n",
    "#     t = time.time()\n",
    "#     Timestamp = round(t * 1000)\n",
    "#     # print(Timestamp)\n",
    "#     return Timestamp\n",
    "# GetTimestamp = GetTime()\n",
    "# GetFundData('161030',GetTimestamp)"
   ]
  }
 ],
 "metadata": {
  "kernelspec": {
   "display_name": "Python 3",
   "language": "python",
   "name": "python3"
  },
  "language_info": {
   "codemirror_mode": {
    "name": "ipython",
    "version": 3
   },
   "file_extension": ".py",
   "mimetype": "text/x-python",
   "name": "python",
   "nbconvert_exporter": "python",
   "pygments_lexer": "ipython3",
   "version": "3.7.9"
  },
  "toc": {
   "base_numbering": 1,
   "nav_menu": {},
   "number_sections": true,
   "sideBar": true,
   "skip_h1_title": false,
   "title_cell": "Table of Contents",
   "title_sidebar": "Contents",
   "toc_cell": false,
   "toc_position": {},
   "toc_section_display": true,
   "toc_window_display": false
  }
 },
 "nbformat": 4,
 "nbformat_minor": 5
}
